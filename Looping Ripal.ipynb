{
 "cells": [
  {
   "cell_type": "code",
   "execution_count": 1,
   "id": "08bc9da3",
   "metadata": {},
   "outputs": [
    {
     "name": "stdout",
     "output_type": "stream",
     "text": [
      "1\n",
      "2\n",
      "3\n",
      "4\n",
      "5\n",
      "6\n",
      "7\n",
      "8\n",
      "9\n",
      "10\n"
     ]
    }
   ],
   "source": [
    "# For in range\n",
    "# print 1 - 10\n",
    "\n",
    "for i  in range(1,11):\n",
    "    print(i)"
   ]
  },
  {
   "cell_type": "code",
   "execution_count": 6,
   "id": "2a6b495e",
   "metadata": {},
   "outputs": [
    {
     "name": "stdout",
     "output_type": "stream",
     "text": [
      "10\n",
      "20\n",
      "30\n",
      "40\n",
      "50\n",
      "60\n",
      "70\n",
      "80\n",
      "90\n",
      "100\n"
     ]
    }
   ],
   "source": [
    "#print 10 20 30 40 50 ... 100\n",
    "\n",
    "for i in range(1,11):\n",
    "    print (i*10)\n"
   ]
  },
  {
   "cell_type": "code",
   "execution_count": 8,
   "id": "021437d1",
   "metadata": {},
   "outputs": [
    {
     "name": "stdout",
     "output_type": "stream",
     "text": [
      "10\n",
      "20\n",
      "30\n",
      "40\n",
      "50\n",
      "60\n",
      "70\n",
      "80\n",
      "90\n",
      "100\n"
     ]
    }
   ],
   "source": [
    "for i in range(10,110,10):\n",
    "    print(i)"
   ]
  },
  {
   "cell_type": "code",
   "execution_count": 9,
   "id": "d8f7ae46",
   "metadata": {},
   "outputs": [
    {
     "name": "stdout",
     "output_type": "stream",
     "text": [
      "10\n",
      "9\n",
      "8\n",
      "7\n",
      "6\n",
      "5\n",
      "4\n",
      "3\n",
      "2\n",
      "1\n"
     ]
    }
   ],
   "source": [
    "# 10 9 8 7 --- 1\n",
    "\n",
    "for i in range(10,0,-1):\n",
    "    print(i)"
   ]
  },
  {
   "cell_type": "code",
   "execution_count": 17,
   "id": "8415ea83",
   "metadata": {},
   "outputs": [
    {
     "name": "stdout",
     "output_type": "stream",
     "text": [
      "1\n",
      "-1\n",
      "-2\n",
      "1\n",
      "3\n",
      "-1\n",
      "-4\n",
      "1\n",
      "5\n",
      "-1\n",
      "-6\n",
      "1\n",
      "7\n",
      "-1\n",
      "-8\n",
      "1\n",
      "9\n",
      "-1\n",
      "-10\n",
      "1\n"
     ]
    }
   ],
   "source": [
    "# 1 - 2 3 -4 5 -6 7 -8 9 -10\n",
    "sign = 1\n",
    "for i in range(1,11):\n",
    "    print(i * sign)\n",
    "    sign *= -1"
   ]
  },
  {
   "cell_type": "code",
   "execution_count": 28,
   "id": "3aa03d8b",
   "metadata": {},
   "outputs": [
    {
     "name": "stdout",
     "output_type": "stream",
     "text": [
      "Isikan Bilangan:2\n",
      "Isikan Pangkat:3\n",
      "8\n",
      "2 pangkat 3 adalah 8\n"
     ]
    }
   ],
   "source": [
    "# pangkat \n",
    "\n",
    "number = int(input('Isikan Bilangan:'))\n",
    "pangkat = int(input('Isikan Pangkat:'))\n",
    "\n",
    "\n",
    "for i in range(1):\n",
    "    print(number ** pangkat)\n",
    "    result = number ** pangkat\n",
    "    \n",
    "print(f\"{number} pangkat {pangkat} adalah {result}\")"
   ]
  },
  {
   "cell_type": "code",
   "execution_count": 39,
   "id": "f6237b22",
   "metadata": {},
   "outputs": [
    {
     "name": "stdout",
     "output_type": "stream",
     "text": [
      "Isikan Bilangan:2\n",
      "2 adalah bilangan prima\n"
     ]
    }
   ],
   "source": [
    "#Cek bilangan prima\n",
    "#Bil. Prima adalah bilangan yang hanya bisa habis dibagi dengan bil itu\n",
    "# sendiri dan 1\n",
    "\n",
    "#Bil.Prima punya 2 faktor\n",
    "\n",
    "#Jika number % i == 0 maka nilaifaktor di increment(+1)\n",
    "#setelah selesai perulangan,jika faktor == 2 maka bilangan prima\n",
    "number = int(input('Isikan Bilangan:'))\n",
    "faktor = 0\n",
    "for i in range(1, number+1):\n",
    "    sisa = number % 1\n",
    "    if number % i == 0:\n",
    "        faktor = faktor + 1\n",
    "\n",
    "if faktor == 2:\n",
    "    print(f\"{number} adalah bilangan prima\")\n",
    "else:\n",
    "    print(f\"{number} adalah bukan bilangan prima\")\n"
   ]
  },
  {
   "cell_type": "code",
   "execution_count": 46,
   "id": "185ee998",
   "metadata": {},
   "outputs": [
    {
     "name": "stdout",
     "output_type": "stream",
     "text": [
      "22\n",
      "U\n",
      "0 U\n",
      "1 n\n",
      "2 i\n",
      "3 v\n",
      "4 e\n",
      "5 r\n",
      "6 s\n",
      "7 i\n",
      "8 t\n",
      "9 a\n",
      "10 s\n",
      "11  \n",
      "12 N\n",
      "13 u\n",
      "14 s\n",
      "15 a\n",
      "16  \n",
      "17 P\n",
      "18 u\n",
      "19 t\n",
      "20 r\n",
      "21 a\n"
     ]
    }
   ],
   "source": [
    "kampus = \"Universitas Nusa Putra\"\n",
    "print(len(kampus))\n",
    "print(kampus[0])\n",
    "for i,huruf in enumerate(kampus):\n",
    "    print(i,huruf)"
   ]
  },
  {
   "cell_type": "code",
   "execution_count": 57,
   "id": "b763b8ee",
   "metadata": {},
   "outputs": [
    {
     "name": "stdout",
     "output_type": "stream",
     "text": [
      "Jumlah huruf Vokal a:3\n",
      "Jumlah huruf Vokal i:2\n",
      "Jumlah huruf vokal u:3\n",
      "Jumlah huruf vokal e:1\n",
      "Jumlah huruf vokal o:0\n",
      "Jumlah huruf vokal adalah 9\n"
     ]
    }
   ],
   "source": [
    "#menghitung jumlah huruf vokal a i u e o\n",
    "\n",
    "kampus = \"Universitas Nusa Putra\" #panjang 22\n",
    "panjang = len(kampus)\n",
    "\n",
    "vokal_a = 0;\n",
    "vokal_i = 0;\n",
    "vokal_u = 0;\n",
    "vokal_e = 0;\n",
    "vokal_o = 0;\n",
    "\n",
    "for i in range(0,panjang):\n",
    "    if kampus[i]=='a'or kampus[i]=='A':\n",
    "        vokal_a +=1\n",
    "    elif kampus[i]=='i'or kampus[i]=='I':\n",
    "        vokal_i +=1\n",
    "    elif kampus[i]=='u' or kampus[i]=='U':\n",
    "        vokal_u +=1\n",
    "    elif kampus[i]=='e' or kampus[i]=='E':\n",
    "        vokal_e +=1\n",
    "    elif kampus[i]=='o' or kampus[i]=='O':\n",
    "        vokal_o +=1\n",
    "\n",
    "print(f\"Jumlah huruf Vokal a:{vokal_a}\")\n",
    "print(f\"Jumlah huruf Vokal i:{vokal_i}\")\n",
    "print(f\"Jumlah huruf vokal u:{vokal_u}\")\n",
    "print(f\"Jumlah huruf vokal e:{vokal_e}\")\n",
    "print(f\"Jumlah huruf vokal o:{vokal_o}\")\n",
    "print(f\"Jumlah huruf vokal adalah {vokal_a + vokal_i + vokal_u + vokal_e + vokal_o}\")"
   ]
  },
  {
   "cell_type": "code",
   "execution_count": 78,
   "id": "2417162c",
   "metadata": {},
   "outputs": [
    {
     "name": "stdout",
     "output_type": "stream",
     "text": [
      "Isikan Kalimat:OK\n",
      "OK adalah Bukan Palindrome\n",
      "Apakah Mau mengulang Program?: Y/TY\n",
      "Isikan Kalimat:APA\n",
      "APA adalah Palindrome\n",
      "Apakah Mau mengulang Program?: Y/TT\n"
     ]
    }
   ],
   "source": [
    "ulang = \"Y\"\n",
    "while(ulang==\"Y\"):\n",
    "    kalimat = input(\"Isikan Kalimat:\")\n",
    "    panjang_kalimat = len(kalimat)\n",
    "\n",
    "#\n",
    "# Pal indrome => kalimat yang dibaca dari kiri > kanan dan \n",
    "# kana > kiri itu sama\n",
    "# AKU => UKA => \n",
    "    isPalindrome = True\n",
    "    for i in range(0,panjang_kalimat):\n",
    "        urut = kalimat[i]\n",
    "        kebalikan = kalimat[panjang_kalimat - i -1]\n",
    "        if urut != kebalikan:\n",
    "            isPalindrome = False\n",
    "            break\n",
    "        \n",
    "    if isPalindrome==True:\n",
    "        print(f\"{kalimat} adalah Palindrome\")\n",
    "    else:\n",
    "        print(f\"{kalimat} adalah Bukan Palindrome\")\n",
    "        \n",
    "    ulang = input('Apakah Mau mengulang Program?: Y/T')"
   ]
  },
  {
   "cell_type": "code",
   "execution_count": 79,
   "id": "f7963c31",
   "metadata": {},
   "outputs": [
    {
     "name": "stdout",
     "output_type": "stream",
     "text": [
      "i: 1 dan j :1\n",
      "i: 1 dan j :2\n",
      "i: 1 dan j :3\n",
      "i: 1 dan j :4\n",
      "i: 2 dan j :1\n",
      "i: 2 dan j :2\n",
      "i: 2 dan j :3\n",
      "i: 2 dan j :4\n",
      "i: 3 dan j :1\n",
      "i: 3 dan j :2\n",
      "i: 3 dan j :3\n",
      "i: 3 dan j :4\n",
      "i: 4 dan j :1\n",
      "i: 4 dan j :2\n",
      "i: 4 dan j :3\n",
      "i: 4 dan j :4\n"
     ]
    }
   ],
   "source": [
    "#Nested for\n",
    "\n",
    "for i in range(1,5):\n",
    "    for j in range(1,5):\n",
    "        print(f\"i: {i} dan j :{j}\")\n",
    "        \n",
    "        "
   ]
  },
  {
   "cell_type": "code",
   "execution_count": null,
   "id": "695e9e15",
   "metadata": {},
   "outputs": [],
   "source": []
  }
 ],
 "metadata": {
  "kernelspec": {
   "display_name": "Python 3 (ipykernel)",
   "language": "python",
   "name": "python3"
  },
  "language_info": {
   "codemirror_mode": {
    "name": "ipython",
    "version": 3
   },
   "file_extension": ".py",
   "mimetype": "text/x-python",
   "name": "python",
   "nbconvert_exporter": "python",
   "pygments_lexer": "ipython3",
   "version": "3.9.12"
  }
 },
 "nbformat": 4,
 "nbformat_minor": 5
}
